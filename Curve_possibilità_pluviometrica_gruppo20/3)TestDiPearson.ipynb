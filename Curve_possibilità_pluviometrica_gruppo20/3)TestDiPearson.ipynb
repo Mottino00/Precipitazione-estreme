{
 "cells": [
  {
   "cell_type": "markdown",
   "id": "4c47edaa-dd96-4f3e-ab9b-cba5a970788c",
   "metadata": {},
   "source": [
    "# 3) Test di Pearson"
   ]
  },
  {
   "cell_type": "markdown",
   "id": "1418f73b-f44a-43fb-946f-1630a68c0f3b",
   "metadata": {},
   "source": [
    "Il test di Pearson è un test non parametrico (cioè non dipende dai parametri) che funge da criterio di confronto per la scelta della miglior coppia dei parametri a e b generati dai tre metodi analitici (metodo dei momenti, metodo della massima verosimiglianza e metodo dei minimi quadrati)."
   ]
  },
  {
   "cell_type": "markdown",
   "id": "9a9aa645-4643-4451-be20-bd3f331a6695",
   "metadata": {},
   "source": [
    "## Caricamento librerie"
   ]
  },
  {
   "cell_type": "code",
   "execution_count": 2,
   "id": "c35aebc1-36ca-42a9-adc0-d07f42603cf7",
   "metadata": {},
   "outputs": [],
   "source": [
    "import os\n",
    "from pandas import *\n",
    "import pandas as pd\n",
    "import numpy as np\n",
    "from numpy import linspace\n",
    "import datetime as datetime\n",
    "import matplotlib.pyplot as plt\n",
    "import math\n",
    "from scipy.stats import norm\n",
    "from scipy.stats import genextreme, gumbel_r\n",
    "from statsmodels.distributions.empirical_distribution import ECDF"
   ]
  },
  {
   "cell_type": "markdown",
   "id": "0ef2e832-e795-46b0-868c-89595eee8745",
   "metadata": {},
   "source": [
    "## Caricamento dati"
   ]
  },
  {
   "cell_type": "markdown",
   "id": "a85b00b0-622e-44c2-8e51-9cd86dd676a3",
   "metadata": {
    "tags": []
   },
   "source": [
    "Per effettuare il test di Pearson occorre riportare i dati sperimentali e i parametri a e b ottenuti dai 3 metodi analitici"
   ]
  },
  {
   "cell_type": "code",
   "execution_count": 3,
   "id": "f671a7b6-4a02-49a4-9d49-af80b5628947",
   "metadata": {},
   "outputs": [
    {
     "data": {
      "text/html": [
       "<div>\n",
       "<style scoped>\n",
       "    .dataframe tbody tr th:only-of-type {\n",
       "        vertical-align: middle;\n",
       "    }\n",
       "\n",
       "    .dataframe tbody tr th {\n",
       "        vertical-align: top;\n",
       "    }\n",
       "\n",
       "    .dataframe thead th {\n",
       "        text-align: right;\n",
       "    }\n",
       "</style>\n",
       "<table border=\"1\" class=\"dataframe\">\n",
       "  <thead>\n",
       "    <tr style=\"text-align: right;\">\n",
       "      <th></th>\n",
       "      <th>1 ora</th>\n",
       "      <th>3 ore</th>\n",
       "      <th>6 ore</th>\n",
       "      <th>12 ore</th>\n",
       "      <th>24 ore</th>\n",
       "    </tr>\n",
       "    <tr>\n",
       "      <th>Anno</th>\n",
       "      <th></th>\n",
       "      <th></th>\n",
       "      <th></th>\n",
       "      <th></th>\n",
       "      <th></th>\n",
       "    </tr>\n",
       "  </thead>\n",
       "  <tbody>\n",
       "    <tr>\n",
       "      <th>1962</th>\n",
       "      <td>24.0</td>\n",
       "      <td>41.6</td>\n",
       "      <td>42.8</td>\n",
       "      <td>42.8</td>\n",
       "      <td>60.5</td>\n",
       "    </tr>\n",
       "    <tr>\n",
       "      <th>1963</th>\n",
       "      <td>10.4</td>\n",
       "      <td>15.0</td>\n",
       "      <td>18.8</td>\n",
       "      <td>32.0</td>\n",
       "      <td>35.8</td>\n",
       "    </tr>\n",
       "    <tr>\n",
       "      <th>1964</th>\n",
       "      <td>28.6</td>\n",
       "      <td>34.8</td>\n",
       "      <td>38.4</td>\n",
       "      <td>40.0</td>\n",
       "      <td>56.4</td>\n",
       "    </tr>\n",
       "    <tr>\n",
       "      <th>1965</th>\n",
       "      <td>18.8</td>\n",
       "      <td>30.2</td>\n",
       "      <td>31.0</td>\n",
       "      <td>35.2</td>\n",
       "      <td>39.2</td>\n",
       "    </tr>\n",
       "    <tr>\n",
       "      <th>1966</th>\n",
       "      <td>21.0</td>\n",
       "      <td>22.0</td>\n",
       "      <td>33.0</td>\n",
       "      <td>59.6</td>\n",
       "      <td>102.2</td>\n",
       "    </tr>\n",
       "  </tbody>\n",
       "</table>\n",
       "</div>"
      ],
      "text/plain": [
       "      1 ora  3 ore  6 ore  12 ore  24 ore\n",
       "Anno                                     \n",
       "1962   24.0   41.6   42.8    42.8    60.5\n",
       "1963   10.4   15.0   18.8    32.0    35.8\n",
       "1964   28.6   34.8   38.4    40.0    56.4\n",
       "1965   18.8   30.2   31.0    35.2    39.2\n",
       "1966   21.0   22.0   33.0    59.6   102.2"
      ]
     },
     "execution_count": 3,
     "metadata": {},
     "output_type": "execute_result"
    }
   ],
   "source": [
    "# Dati sperimentali\n",
    "data = pd.ExcelFile('MassimiDiPrecipCavalese.xls')\n",
    "data\n",
    "data.sheet_names\n",
    "df = data.parse('DATI', header = 2)\n",
    "df.columns\n",
    "df.rename(columns = {'anno':'Anno'}, inplace = True)\n",
    "df.set_index(\"Anno\", inplace = True)\n",
    "df.head()"
   ]
  },
  {
   "cell_type": "code",
   "execution_count": 4,
   "id": "230d3fc7-97c0-420f-b10f-2b386bef4404",
   "metadata": {},
   "outputs": [],
   "source": [
    "# Parametri a e b ottenuti con i 3 metodi analitici\n",
    "df_aEb_m = pd.read_pickle(\"df_aEb_m\")\n",
    "df_aEb_mv = pd.read_pickle(\"df_aEb_mv\")\n",
    "df_aEb_mq = pd.read_pickle(\"df_aEb_mq\")"
   ]
  },
  {
   "cell_type": "markdown",
   "id": "6ec6c99f-4f56-400c-93c0-e9ad4a65bce0",
   "metadata": {},
   "source": [
    "## Ricerca delle migliori coppie dei parametri a e b"
   ]
  },
  {
   "cell_type": "markdown",
   "id": "6b282a64-c4f6-4dcf-a1a7-27daf4ed0ef8",
   "metadata": {},
   "source": [
    "Si definisce adesso la funzione $\\chi^2$\n",
    "\n",
    "$$\\chi^2 = \\frac{1}{val. atteso}\\sum_{i=1}^k (val. atteso - val. osservato)^2$$\n",
    "\n",
    "Al termine del test di Pearson si sceglie la coppia di parametri per cui il $\\chi^2$ è più piccolo."
   ]
  },
  {
   "cell_type": "code",
   "execution_count": 10,
   "id": "64033fde-5084-41ad-84a6-5178d6c5ef25",
   "metadata": {},
   "outputs": [],
   "source": [
    "def X2(data, df_aEb, ora):\n",
    "    data = data.dropna()\n",
    "    \n",
    "    # Funzione di Gumbel con parametri prefissati\n",
    "    rv = gumbel_r(loc = df_aEb.at[\"a\", ora], scale = df_aEb.at[\"b\", ora])\n",
    "    \n",
    "    # Suddivisione del campo di probabilità in 5 parti\n",
    "    q = [0.2, 0.4, 0.6, 0.8, 1]\n",
    "    \n",
    "    # Inverso della curva di probabilità (biettiva) tramite il comando ppf -> fornisce il valore dell'ascissa\n",
    "    hNh = rv.ppf(q)\n",
    "    \n",
    "    # Quantificazione dei punti presenti in ciascun intervallo sulle ascisse attraverso la ECDF\n",
    "    ecdf = ECDF(data[ora])\n",
    "    r = ecdf(hNh) # probabilità della presenza dei dati negli intervalli considerati\n",
    "    lNh = len(data[ora]) # numero tot. dei dati relativo ad ogni fascia oraria\n",
    "    o0 = lNh * r # numero di dati presente in ogni intervallo\n",
    "    \n",
    "    # Numero di punti atteso in funzione della distribuzione di probabilità\n",
    "    v_atteso = [0.2 * lNh for i in range(len(r))]\n",
    "    \n",
    "    # Numero di punti misurato per ogni intervallo\n",
    "    v_osservato = o0 - np.append([0], np.delete(o0, -1))\n",
    "    \n",
    "    # Funzione del chi quadro\n",
    "    return ((v_osservato - v_atteso)**2 / v_atteso).sum()"
   ]
  },
  {
   "cell_type": "markdown",
   "id": "617d85e9-49ec-484d-9a20-6068ac40f3d2",
   "metadata": {},
   "source": [
    "Per una migliore lettura si riportano i valori del $\\chi^2$ per ogni metodo e per ogni intervallo per poter scegliere il metodo con il $\\chi^2$ minore."
   ]
  },
  {
   "cell_type": "code",
   "execution_count": 12,
   "id": "02c397bf-2ff5-4bf8-bcfc-de8cae22b314",
   "metadata": {},
   "outputs": [
    {
     "data": {
      "text/html": [
       "<div>\n",
       "<style scoped>\n",
       "    .dataframe tbody tr th:only-of-type {\n",
       "        vertical-align: middle;\n",
       "    }\n",
       "\n",
       "    .dataframe tbody tr th {\n",
       "        vertical-align: top;\n",
       "    }\n",
       "\n",
       "    .dataframe thead th {\n",
       "        text-align: right;\n",
       "    }\n",
       "</style>\n",
       "<table border=\"1\" class=\"dataframe\">\n",
       "  <thead>\n",
       "    <tr style=\"text-align: right;\">\n",
       "      <th></th>\n",
       "      <th>1 ora</th>\n",
       "      <th>3 ore</th>\n",
       "      <th>6 ore</th>\n",
       "      <th>12 ore</th>\n",
       "      <th>24 ore</th>\n",
       "    </tr>\n",
       "  </thead>\n",
       "  <tbody>\n",
       "    <tr>\n",
       "      <th>Momenti</th>\n",
       "      <td>0.615385</td>\n",
       "      <td>8.051282</td>\n",
       "      <td>4.974359</td>\n",
       "      <td>3.435897</td>\n",
       "      <td>2.410256</td>\n",
       "    </tr>\n",
       "    <tr>\n",
       "      <th>Max verosomiglianza</th>\n",
       "      <td>0.358974</td>\n",
       "      <td>10.102564</td>\n",
       "      <td>4.974359</td>\n",
       "      <td>3.435897</td>\n",
       "      <td>1.384615</td>\n",
       "    </tr>\n",
       "    <tr>\n",
       "      <th>Minimi quadrati</th>\n",
       "      <td>0.358974</td>\n",
       "      <td>6.769231</td>\n",
       "      <td>2.666667</td>\n",
       "      <td>1.384615</td>\n",
       "      <td>1.384615</td>\n",
       "    </tr>\n",
       "  </tbody>\n",
       "</table>\n",
       "</div>"
      ],
      "text/plain": [
       "                        1 ora      3 ore     6 ore    12 ore    24 ore\n",
       "Momenti              0.615385   8.051282  4.974359  3.435897  2.410256\n",
       "Max verosomiglianza  0.358974  10.102564  4.974359  3.435897  1.384615\n",
       "Minimi quadrati      0.358974   6.769231  2.666667  1.384615  1.384615"
      ]
     },
     "execution_count": 12,
     "metadata": {},
     "output_type": "execute_result"
    }
   ],
   "source": [
    "T = []\n",
    "ore = [\"1 ora\",\"3 ore\", \"6 ore\", \"12 ore\", \"24 ore\"]\n",
    "for i in df.columns:\n",
    "    # Valori del chi quadro relativi ad ogni fascia oraria per ogni metodo \n",
    "    T = T + [[X2(df, df_aEb_m, i), X2(df, df_aEb_mv, i), X2(df,df_aEb_mq, i)]]\n",
    "df_X2 = pd.DataFrame(T, index = ore, columns = [\"Momenti\", \"Max verosomiglianza\", \"Minimi quadrati\"]).T \n",
    "df_X2"
   ]
  },
  {
   "cell_type": "markdown",
   "id": "9582a84a-685f-41e5-b6fd-80ad11463319",
   "metadata": {},
   "source": [
    "Scelta delle migliori coppie di a e b."
   ]
  },
  {
   "cell_type": "code",
   "execution_count": 15,
   "id": "6af82907-da32-4e05-80a5-bd10c24f2ee6",
   "metadata": {},
   "outputs": [
    {
     "data": {
      "text/html": [
       "<div>\n",
       "<style scoped>\n",
       "    .dataframe tbody tr th:only-of-type {\n",
       "        vertical-align: middle;\n",
       "    }\n",
       "\n",
       "    .dataframe tbody tr th {\n",
       "        vertical-align: top;\n",
       "    }\n",
       "\n",
       "    .dataframe thead th {\n",
       "        text-align: right;\n",
       "    }\n",
       "</style>\n",
       "<table border=\"1\" class=\"dataframe\">\n",
       "  <thead>\n",
       "    <tr style=\"text-align: right;\">\n",
       "      <th></th>\n",
       "      <th>1 ora</th>\n",
       "      <th>3 ore</th>\n",
       "      <th>6 ore</th>\n",
       "      <th>12 ore</th>\n",
       "      <th>24 ore</th>\n",
       "    </tr>\n",
       "  </thead>\n",
       "  <tbody>\n",
       "    <tr>\n",
       "      <th>a</th>\n",
       "      <td>17.096393</td>\n",
       "      <td>23.964007</td>\n",
       "      <td>30.801410</td>\n",
       "      <td>39.728183</td>\n",
       "      <td>51.263666</td>\n",
       "    </tr>\n",
       "    <tr>\n",
       "      <th>b</th>\n",
       "      <td>5.723790</td>\n",
       "      <td>6.604094</td>\n",
       "      <td>8.995085</td>\n",
       "      <td>11.323566</td>\n",
       "      <td>14.547560</td>\n",
       "    </tr>\n",
       "  </tbody>\n",
       "</table>\n",
       "</div>"
      ],
      "text/plain": [
       "       1 ora      3 ore      6 ore     12 ore     24 ore\n",
       "a  17.096393  23.964007  30.801410  39.728183  51.263666\n",
       "b   5.723790   6.604094   8.995085  11.323566  14.547560"
      ]
     },
     "execution_count": 15,
     "metadata": {},
     "output_type": "execute_result"
    }
   ],
   "source": [
    "best = []\n",
    "for i in df_X2.columns:\n",
    "    b = (df_X2.min()[i])\n",
    "    \n",
    "    if b == df_X2[i]['Momenti']:\n",
    "        best.append(df_aEb_m[i])\n",
    "        \n",
    "    elif b == df_X2[i]['Max verosomiglianza']:\n",
    "        best.append(df_aEb_mv[i])\n",
    "   \n",
    "    elif b == df_X2[i]['Minimi quadrati']:\n",
    "        best.append(df_aEb_mq[i])\n",
    "\n",
    "df_best = pd.DataFrame(best, index = ore, columns=[\"a\",\"b\"]).T \n",
    "df_best"
   ]
  },
  {
   "cell_type": "code",
   "execution_count": 30,
   "id": "9e70aea7-218b-48da-bebf-a82ba5aa8559",
   "metadata": {},
   "outputs": [],
   "source": [
    "df_best.to_pickle(\"df_best_aEb\")"
   ]
  },
  {
   "cell_type": "markdown",
   "id": "fe47c2ae-7b37-4899-bd06-f65b9e1404cc",
   "metadata": {},
   "source": [
    "## Costruzione del grafico"
   ]
  },
  {
   "cell_type": "markdown",
   "id": "c3529f5f-e2f2-4c3c-9f50-c03fc49994c9",
   "metadata": {},
   "source": [
    "Definire una funzione che ritorna l'espressione della curva di Gumbel."
   ]
  },
  {
   "cell_type": "code",
   "execution_count": 22,
   "id": "c23885de-2b06-448f-8162-15b5be600a01",
   "metadata": {},
   "outputs": [],
   "source": [
    "def gumbel(x, df_g, time):\n",
    "    return np.exp( - np.exp( - (x - df_g[time][\"a\"]) / df_g[time][\"b\"])) "
   ]
  },
  {
   "cell_type": "markdown",
   "id": "abd9c360-a0e5-45bd-8367-50a2866879b5",
   "metadata": {},
   "source": [
    "Determinare i valori minimi e massimi di precipitazione per tutte le fasce orarie."
   ]
  },
  {
   "cell_type": "code",
   "execution_count": 23,
   "id": "6d550695-b862-43ae-a1bf-0e99fcd706ca",
   "metadata": {},
   "outputs": [],
   "source": [
    "x_gumbel = np.linspace(df.min()[0], df.max()[4], 100)"
   ]
  },
  {
   "cell_type": "markdown",
   "id": "3bbd0e53-c16e-4a7a-8a5c-871314b2c860",
   "metadata": {},
   "source": [
    "Definire un dataframe contenente le espressione delle distribuzioni di Gumbel interpolate, nelle diverse fasce orarie."
   ]
  },
  {
   "cell_type": "code",
   "execution_count": 24,
   "id": "fe49dfc2-ac80-40c8-b506-d5fe0665c1e3",
   "metadata": {},
   "outputs": [
    {
     "data": {
      "text/html": [
       "<div>\n",
       "<style scoped>\n",
       "    .dataframe tbody tr th:only-of-type {\n",
       "        vertical-align: middle;\n",
       "    }\n",
       "\n",
       "    .dataframe tbody tr th {\n",
       "        vertical-align: top;\n",
       "    }\n",
       "\n",
       "    .dataframe thead th {\n",
       "        text-align: right;\n",
       "    }\n",
       "</style>\n",
       "<table border=\"1\" class=\"dataframe\">\n",
       "  <thead>\n",
       "    <tr style=\"text-align: right;\">\n",
       "      <th></th>\n",
       "      <th>1 ora</th>\n",
       "      <th>3 ore</th>\n",
       "      <th>6 ore</th>\n",
       "      <th>12 ore</th>\n",
       "      <th>24 ore</th>\n",
       "    </tr>\n",
       "  </thead>\n",
       "  <tbody>\n",
       "    <tr>\n",
       "      <th>10.200000</th>\n",
       "      <td>0.035568</td>\n",
       "      <td>0.000323</td>\n",
       "      <td>0.000051</td>\n",
       "      <td>0.000001</td>\n",
       "      <td>4.943930e-08</td>\n",
       "    </tr>\n",
       "    <tr>\n",
       "      <th>11.276768</th>\n",
       "      <td>0.063028</td>\n",
       "      <td>0.001082</td>\n",
       "      <td>0.000156</td>\n",
       "      <td>0.000004</td>\n",
       "      <td>1.641752e-07</td>\n",
       "    </tr>\n",
       "    <tr>\n",
       "      <th>12.353535</th>\n",
       "      <td>0.101250</td>\n",
       "      <td>0.003024</td>\n",
       "      <td>0.000420</td>\n",
       "      <td>0.000013</td>\n",
       "      <td>5.004442e-07</td>\n",
       "    </tr>\n",
       "    <tr>\n",
       "      <th>13.430303</th>\n",
       "      <td>0.149953</td>\n",
       "      <td>0.007238</td>\n",
       "      <td>0.001010</td>\n",
       "      <td>0.000037</td>\n",
       "      <td>1.408866e-06</td>\n",
       "    </tr>\n",
       "    <tr>\n",
       "      <th>14.507071</th>\n",
       "      <td>0.207620</td>\n",
       "      <td>0.015192</td>\n",
       "      <td>0.002200</td>\n",
       "      <td>0.000094</td>\n",
       "      <td>3.683950e-06</td>\n",
       "    </tr>\n",
       "  </tbody>\n",
       "</table>\n",
       "</div>"
      ],
      "text/plain": [
       "              1 ora     3 ore     6 ore    12 ore        24 ore\n",
       "10.200000  0.035568  0.000323  0.000051  0.000001  4.943930e-08\n",
       "11.276768  0.063028  0.001082  0.000156  0.000004  1.641752e-07\n",
       "12.353535  0.101250  0.003024  0.000420  0.000013  5.004442e-07\n",
       "13.430303  0.149953  0.007238  0.001010  0.000037  1.408866e-06\n",
       "14.507071  0.207620  0.015192  0.002200  0.000094  3.683950e-06"
      ]
     },
     "execution_count": 24,
     "metadata": {},
     "output_type": "execute_result"
    }
   ],
   "source": [
    "df_pearson = pd.DataFrame([gumbel(x_gumbel, df_best, \"1 ora\"),\n",
    "                 gumbel(x_gumbel, df_best, \"3 ore\"),\n",
    "                 gumbel(x_gumbel, df_best, \"6 ore\"),\n",
    "                 gumbel(x_gumbel, df_best, \"12 ore\"),\n",
    "                 gumbel(x_gumbel, df_best, \"24 ore\")]).T\n",
    "df_pearson.index = x_gumbel\n",
    "df_pearson.columns = [\"1 ora\",\"3 ore\",\"6 ore\",\"12 ore\",\"24 ore\"]\n",
    "df_pearson.head()"
   ]
  },
  {
   "cell_type": "code",
   "execution_count": 31,
   "id": "eda4ab90-8005-44bc-bd3b-0c7b266e4247",
   "metadata": {},
   "outputs": [
    {
     "data": {
      "image/png": "[encoded data removed]",
      "text/plain": [
       "<Figure size 864x504 with 1 Axes>"
      ]
     },
     "metadata": {
      "needs_background": "light"
     },
     "output_type": "display_data"
    }
   ],
   "source": [
    "#Curve di Gumbel relative alle varie fasce orarie\n",
    "plt.rc('xtick', labelsize = 20)\n",
    "plt.rc('ytick', labelsize = 20)\n",
    "colori = [\"red\", \"blue\", \"cyan\", \"green\", \"black\"]\n",
    "ax_p = df_pearson.plot(color = colori, figsize = (12,7))\n",
    "ax_p.set_title('Curve di Gumbel da $\\chi^2$', fontsize = 25)\n",
    "ax_p.set_xlabel('Precipitazione [mm]', fontsize = 18)\n",
    "ax_p.set_ylabel('P [H<h]', fontsize = 18)\n",
    "plt.legend(prop = {\"size\":16}, loc = 4)\n",
    "ax_p.grid()\n",
    "# Rappresentazione dell'andamento effettivo dei dati determinati sperimentalmente\n",
    "def componenti(data, colore, ora):  \n",
    "    data = data[ora].dropna()\n",
    "    ecdf = ECDF(data)\n",
    "    dot = ax_p.plot(data, ecdf(data), 'o', c = colore)\n",
    "    return dot\n",
    "\n",
    "for i in range(len(colori)):\n",
    "    comp = componenti(df, colori[i], ore[i]) \n",
    "ax_p.set_ybound(lower = 0, upper = 1.1)\n",
    "plt.savefig(\"Gumbel_pearson.png\", dpi = 600)"
   ]
  },
  {
   "cell_type": "code",
   "execution_count": null,
   "id": "cbc44e64-0c99-4d9c-b295-a60a7e093896",
   "metadata": {},
   "outputs": [],
   "source": []
  }
 ],
 "metadata": {
  "kernelspec": {
   "display_name": "Python 3 (ipykernel)",
   "language": "python",
   "name": "python3"
  },
  "language_info": {
   "codemirror_mode": {
    "name": "ipython",
    "version": 3
   },
   "file_extension": ".py",
   "mimetype": "text/x-python",
   "name": "python",
   "nbconvert_exporter": "python",
   "pygments_lexer": "ipython3",
   "version": "3.7.12"
  }
 },
 "nbformat": 4,
 "nbformat_minor": 5
}
