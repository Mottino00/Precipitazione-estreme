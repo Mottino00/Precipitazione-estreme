{
 "cells": [
  {
   "cell_type": "markdown",
   "id": "5d06684e-0111-46ef-8162-2fa97bfb0e27",
   "metadata": {},
   "source": [
    "# 2) Distribuzioni di Gumbel"
   ]
  },
  {
   "cell_type": "markdown",
   "id": "3b5606b3-169b-4bad-98a0-507c7a136557",
   "metadata": {},
   "source": [
    "La distribuzione dei massimi di precipitazioni dei dati analizzati appartiene alla famiglia di distribuzioni di Gumbel. L’affermazione precedente è lecita in quanto, secondo il teorema di Gumbel, i valori massimi dei dati relativi ad un insieme di campioni di opportuna numerosità appartiene alle seguenti famiglie di distribuzione:\n",
    "- Distribuzione di Gumbel (curva dei valori estremi di tipo 1);\n",
    "- Distribuzione di Fréchet (curva dei valori estremi di tipo 2);\n",
    "- Distribuzione di Weibull (curva dei valori estremi di tipo 3).\n",
    "La distribuzione di Gumbel è espressa dalla seguente formula: \n",
    "\n",
    "$$ P[H<h; a,b] = e^{-e-{\\frac{h-a}{b}}}$$\n",
    "\n",
    "Queste distribuzioni al loro interno contengono 2 parametri:\n",
    "- a = parametro di posizione (legato alla deviazione standard);\n",
    "- b = fattore di forma (legato alla moda).\n"
   ]
  },
  {
   "cell_type": "markdown",
   "id": "5193273b-9f1f-41d6-8ff9-cfd36731448d",
   "metadata": {},
   "source": [
    "## Operazioni preliminari"
   ]
  },
  {
   "cell_type": "code",
   "execution_count": 2,
   "id": "ea72cf8b-68b7-4778-91f4-bfdd981068ca",
   "metadata": {},
   "outputs": [],
   "source": [
    "import os\n",
    "from pandas import *\n",
    "import pandas as pd\n",
    "import numpy as np\n",
    "from numpy import linspace\n",
    "import datetime as datetime\n",
    "import matplotlib.pyplot as plt\n",
    "import math\n",
    "from scipy.stats import genextreme, gumbel_r\n",
    "from statsmodels.distributions.empirical_distribution import ECDF"
   ]
  },
  {
   "cell_type": "code",
   "execution_count": 3,
   "id": "280c976b-1fba-46cb-ad29-d2813e54907f",
   "metadata": {},
   "outputs": [
    {
     "data": {
      "text/plain": [
       "['.ipynb_checkpoints',\n",
       " '1)Introduzione.ipynb',\n",
       " '2)Gumbel.ipynb',\n",
       " '3)TestDiPearson.ipynb',\n",
       " '4)CurvePossPluv.ipynb',\n",
       " 'df_aEb_m',\n",
       " 'df_aEb_mq',\n",
       " 'df_aEb_mv',\n",
       " 'df_best_aEb',\n",
       " 'fotoStazione.png',\n",
       " 'Gumbel_pearson.png',\n",
       " 'LetturaFileExcel.ipynb',\n",
       " 'LSPP_massima_verosimiglianza.png',\n",
       " 'LSPP_minimi_quadrati.png',\n",
       " 'LSPP_momenti.png',\n",
       " 'MassimiDiPrecipCavalese.xls']"
      ]
     },
     "execution_count": 3,
     "metadata": {},
     "output_type": "execute_result"
    }
   ],
   "source": [
    "os.getcwd()\n",
    "os.listdir()"
   ]
  },
  {
   "cell_type": "code",
   "execution_count": 4,
   "id": "6b1de477-18e5-4ea8-b2c1-7c70c072323c",
   "metadata": {},
   "outputs": [
    {
     "data": {
      "text/html": [
       "<div>\n",
       "<style scoped>\n",
       "    .dataframe tbody tr th:only-of-type {\n",
       "        vertical-align: middle;\n",
       "    }\n",
       "\n",
       "    .dataframe tbody tr th {\n",
       "        vertical-align: top;\n",
       "    }\n",
       "\n",
       "    .dataframe thead th {\n",
       "        text-align: right;\n",
       "    }\n",
       "</style>\n",
       "<table border=\"1\" class=\"dataframe\">\n",
       "  <thead>\n",
       "    <tr style=\"text-align: right;\">\n",
       "      <th></th>\n",
       "      <th>1 ora</th>\n",
       "      <th>3 ore</th>\n",
       "      <th>6 ore</th>\n",
       "      <th>12 ore</th>\n",
       "      <th>24 ore</th>\n",
       "    </tr>\n",
       "    <tr>\n",
       "      <th>Anno</th>\n",
       "      <th></th>\n",
       "      <th></th>\n",
       "      <th></th>\n",
       "      <th></th>\n",
       "      <th></th>\n",
       "    </tr>\n",
       "  </thead>\n",
       "  <tbody>\n",
       "    <tr>\n",
       "      <th>1962</th>\n",
       "      <td>24.0</td>\n",
       "      <td>41.6</td>\n",
       "      <td>42.8</td>\n",
       "      <td>42.8</td>\n",
       "      <td>60.5</td>\n",
       "    </tr>\n",
       "    <tr>\n",
       "      <th>1963</th>\n",
       "      <td>10.4</td>\n",
       "      <td>15.0</td>\n",
       "      <td>18.8</td>\n",
       "      <td>32.0</td>\n",
       "      <td>35.8</td>\n",
       "    </tr>\n",
       "    <tr>\n",
       "      <th>1964</th>\n",
       "      <td>28.6</td>\n",
       "      <td>34.8</td>\n",
       "      <td>38.4</td>\n",
       "      <td>40.0</td>\n",
       "      <td>56.4</td>\n",
       "    </tr>\n",
       "    <tr>\n",
       "      <th>1965</th>\n",
       "      <td>18.8</td>\n",
       "      <td>30.2</td>\n",
       "      <td>31.0</td>\n",
       "      <td>35.2</td>\n",
       "      <td>39.2</td>\n",
       "    </tr>\n",
       "    <tr>\n",
       "      <th>1966</th>\n",
       "      <td>21.0</td>\n",
       "      <td>22.0</td>\n",
       "      <td>33.0</td>\n",
       "      <td>59.6</td>\n",
       "      <td>102.2</td>\n",
       "    </tr>\n",
       "  </tbody>\n",
       "</table>\n",
       "</div>"
      ],
      "text/plain": [
       "      1 ora  3 ore  6 ore  12 ore  24 ore\n",
       "Anno                                     \n",
       "1962   24.0   41.6   42.8    42.8    60.5\n",
       "1963   10.4   15.0   18.8    32.0    35.8\n",
       "1964   28.6   34.8   38.4    40.0    56.4\n",
       "1965   18.8   30.2   31.0    35.2    39.2\n",
       "1966   21.0   22.0   33.0    59.6   102.2"
      ]
     },
     "execution_count": 4,
     "metadata": {},
     "output_type": "execute_result"
    }
   ],
   "source": [
    "data = pd.ExcelFile('MassimiDiPrecipCavalese.xls')\n",
    "data\n",
    "data.sheet_names\n",
    "df = data.parse('DATI', header = 2)\n",
    "df.columns\n",
    "df.rename(columns = {'anno':'Anno'}, inplace = True)\n",
    "df.set_index(\"Anno\", inplace = True)\n",
    "df.head()"
   ]
  },
  {
   "cell_type": "markdown",
   "id": "a3a61454-c4f4-47c2-a1eb-344a55eaa50b",
   "metadata": {},
   "source": [
    "## 2.1) Metodo dei momenti"
   ]
  },
  {
   "cell_type": "markdown",
   "id": "58cf383f-9595-46d6-85d8-32e1455357ff",
   "metadata": {},
   "source": [
    "Il metodo dei momenti è uno dei metodi utilizzati per la determinazione dei parametri a e b della distribuzione di Gumbel. Tale metodo ha validità generale e consiste nell'uguagliare due momenti, il momento di un campione di dati e il momento della popolazione.\n",
    "Il metodo dei momenti richiede la risoluzione di:\n",
    "\\begin{equation}\n",
    "\\left\\{\n",
    "\\begin{array}{l}\n",
    "b \\gamma + a = \\mu_H \\\\\n",
    "b^2  \\frac{\\pi^2}{6} = \\sigma^2_H\n",
    "\\end{array}\n",
    "\\right.\n",
    "\\end{equation}\n",
    "con a e b parametri della curva di Gumbel:\n",
    "$$b = \\frac{\\sqrt{6}}{\\pi} \\sigma_H \\qquad a = \\mu_H -\\frac{\\sqrt{6}\\gamma}{\\pi} \\sigma_H$$\n",
    "\n",
    "Per comodità nei conti si introducono altre due costanti:\n",
    "$$C = \\frac{\\sqrt{6}}{\\pi} \\qquad d = \\frac{\\sqrt{6}\\gamma}{\\pi}$$\n",
    "\n",
    "Ottenedo cosi che:\n",
    "\n",
    "$$b=C\\,\\sigma_H\\qquad e \\qquad a=\\mu_H - d\\sigma_H$$\n"
   ]
  },
  {
   "cell_type": "markdown",
   "id": "631ceef8-72a4-4821-9351-c0ba9532de6b",
   "metadata": {},
   "source": [
    "### Calcolo delle costanti C e d"
   ]
  },
  {
   "cell_type": "code",
   "execution_count": 5,
   "id": "0c080ddf-6e21-4afe-8bce-6be5030e375f",
   "metadata": {},
   "outputs": [
    {
     "data": {
      "text/plain": [
       "0.779696801233676"
      ]
     },
     "execution_count": 5,
     "metadata": {},
     "output_type": "execute_result"
    }
   ],
   "source": [
    "#Calcolo di C\n",
    "C = math.sqrt(6) / math.pi\n",
    "C"
   ]
  },
  {
   "cell_type": "code",
   "execution_count": 6,
   "id": "4d404121-61ef-4513-8ff8-6a0b5317b6a9",
   "metadata": {},
   "outputs": [
    {
     "data": {
      "text/plain": [
       "0.4500532075456946"
      ]
     },
     "execution_count": 6,
     "metadata": {},
     "output_type": "execute_result"
    }
   ],
   "source": [
    "#Calcolo di d\n",
    "costEulMasc = 0.577215664901532860606512090\n",
    "d = costEulMasc*C\n",
    "d"
   ]
  },
  {
   "cell_type": "markdown",
   "id": "930ce5dd-ed51-4266-a61e-d37ce671d226",
   "metadata": {},
   "source": [
    "### Determinazione dei parametri a e b al variare delle durate"
   ]
  },
  {
   "cell_type": "markdown",
   "id": "c46fcf8f-2cc5-42d0-a8a6-a4fdcd4d272a",
   "metadata": {},
   "source": [
    "Costruire una funzione che ha come input i dataframe delle medie e delle deviazioni standard e che restituisce un dataframe costituito da 2 vettori in cui:\n",
    "- primo vettore -> rappresenta i valori di a al variare delle durate (1 ora, 3 ore, 6 ore, 12 ore, 24 ore);\n",
    "- secondo vettore -> rappresenta i valori di b al variare delle stesse durate di a.\n",
    "\n",
    "Il metodo dei momenti permette quindi di ottenere le coppie di a e b per tutte le durate, contemporaneamente."
   ]
  },
  {
   "cell_type": "code",
   "execution_count": 7,
   "id": "32bf7b02-b790-4fcd-93c2-ad04843fad23",
   "metadata": {},
   "outputs": [
    {
     "data": {
      "text/html": [
       "<div>\n",
       "<style scoped>\n",
       "    .dataframe tbody tr th:only-of-type {\n",
       "        vertical-align: middle;\n",
       "    }\n",
       "\n",
       "    .dataframe tbody tr th {\n",
       "        vertical-align: top;\n",
       "    }\n",
       "\n",
       "    .dataframe thead th {\n",
       "        text-align: right;\n",
       "    }\n",
       "</style>\n",
       "<table border=\"1\" class=\"dataframe\">\n",
       "  <thead>\n",
       "    <tr style=\"text-align: right;\">\n",
       "      <th></th>\n",
       "      <th>1 ora</th>\n",
       "      <th>3 ore</th>\n",
       "      <th>6 ore</th>\n",
       "      <th>12 ore</th>\n",
       "      <th>24 ore</th>\n",
       "    </tr>\n",
       "  </thead>\n",
       "  <tbody>\n",
       "    <tr>\n",
       "      <th>a</th>\n",
       "      <td>17.116492</td>\n",
       "      <td>24.077547</td>\n",
       "      <td>30.859582</td>\n",
       "      <td>39.772437</td>\n",
       "      <td>50.772806</td>\n",
       "    </tr>\n",
       "    <tr>\n",
       "      <th>b</th>\n",
       "      <td>5.777373</td>\n",
       "      <td>6.671090</td>\n",
       "      <td>6.853249</td>\n",
       "      <td>10.024914</td>\n",
       "      <td>16.407705</td>\n",
       "    </tr>\n",
       "  </tbody>\n",
       "</table>\n",
       "</div>"
      ],
      "text/plain": [
       "       1 ora      3 ore      6 ore     12 ore     24 ore\n",
       "a  17.116492  24.077547  30.859582  39.772437  50.772806\n",
       "b   5.777373   6.671090   6.853249  10.024914  16.407705"
      ]
     },
     "execution_count": 7,
     "metadata": {},
     "output_type": "execute_result"
    }
   ],
   "source": [
    "media = df.mean()\n",
    "devStandard = df.std()\n",
    "def g(m, s):\n",
    "    return pd.DataFrame([m - 0.4500532075456946 * s, 0.779696801233676 * s], index = [\"a\",\"b\"])\n",
    "df_aEb_m = g(media, devStandard)\n",
    "df_aEb_m"
   ]
  },
  {
   "cell_type": "markdown",
   "id": "23e6f873-b5eb-4219-ba74-1bae5c6167f1",
   "metadata": {},
   "source": [
    "### Costruzione delle curve di Gumbel "
   ]
  },
  {
   "cell_type": "markdown",
   "id": "68230c93-ec8a-41fc-a0d2-3304457ee341",
   "metadata": {},
   "source": [
    "Salvare il dataframe dei parametri a e b in un formato leggibile dal sistema."
   ]
  },
  {
   "cell_type": "code",
   "execution_count": 8,
   "id": "8049a24e-4888-4fc9-80d2-a68f5d8b6391",
   "metadata": {},
   "outputs": [],
   "source": [
    "df_aEb_m.to_pickle(\"df_aEb_m\")"
   ]
  },
  {
   "cell_type": "markdown",
   "id": "ff4ef85e-0226-4ffa-abeb-10d64f5d89e4",
   "metadata": {},
   "source": [
    "Definire una funzione che ritorna l'espressione della curva di Gumbel."
   ]
  },
  {
   "cell_type": "code",
   "execution_count": 9,
   "id": "060d9771-6d6e-44f2-9be2-dc8c678d2a76",
   "metadata": {},
   "outputs": [],
   "source": [
    "def gumbel(x, df_g, time):\n",
    "    return np.exp( - np.exp( - (x-df_g[time][\"a\"]) / df_g[time][\"b\"])) "
   ]
  },
  {
   "cell_type": "markdown",
   "id": "19f69d8d-2fb6-4481-86ce-96ff1af51060",
   "metadata": {},
   "source": [
    "Determinare i valori minimi e massimi di precipitazione per tutte le fasce orarie."
   ]
  },
  {
   "cell_type": "code",
   "execution_count": 10,
   "id": "5adf11ff-2fe4-4906-b9f7-32981324cdae",
   "metadata": {},
   "outputs": [
    {
     "data": {
      "text/plain": [
       "10.2"
      ]
     },
     "execution_count": 10,
     "metadata": {},
     "output_type": "execute_result"
    }
   ],
   "source": [
    "vMin = df.min()[0]\n",
    "vMin"
   ]
  },
  {
   "cell_type": "code",
   "execution_count": 11,
   "id": "edc1b93b-31bf-438d-89db-5789b9d93abf",
   "metadata": {},
   "outputs": [
    {
     "data": {
      "text/plain": [
       "116.8"
      ]
     },
     "execution_count": 11,
     "metadata": {},
     "output_type": "execute_result"
    }
   ],
   "source": [
    "vMax = df.max()[4]\n",
    "vMax"
   ]
  },
  {
   "cell_type": "markdown",
   "id": "581f9c74-d533-4048-a4a5-320de6f95d90",
   "metadata": {},
   "source": [
    "Creare un'ascissa che va dal valore minimo al valore massimo di precipitazione indicando il numero d'intervalli in cui la si vuole dividere."
   ]
  },
  {
   "cell_type": "code",
   "execution_count": 12,
   "id": "fd4ee7cf-13fd-4f73-a0b2-4cec7e2f6148",
   "metadata": {},
   "outputs": [],
   "source": [
    "x_gumbel = np.linspace(vMin, vMax, 100)"
   ]
  },
  {
   "cell_type": "markdown",
   "id": "b47432da-b701-4a1e-b97b-a3295e521a0b",
   "metadata": {},
   "source": [
    "Definire un dataframe contenente le espressione delle distribuzioni di Gumbel interpolate, nelle diverse fasce orarie."
   ]
  },
  {
   "cell_type": "code",
   "execution_count": 13,
   "id": "0d32c002-5796-4e43-83b7-fedd0fde3253",
   "metadata": {},
   "outputs": [
    {
     "data": {
      "text/html": [
       "<div>\n",
       "<style scoped>\n",
       "    .dataframe tbody tr th:only-of-type {\n",
       "        vertical-align: middle;\n",
       "    }\n",
       "\n",
       "    .dataframe tbody tr th {\n",
       "        vertical-align: top;\n",
       "    }\n",
       "\n",
       "    .dataframe thead th {\n",
       "        text-align: right;\n",
       "    }\n",
       "</style>\n",
       "<table border=\"1\" class=\"dataframe\">\n",
       "  <thead>\n",
       "    <tr style=\"text-align: right;\">\n",
       "      <th></th>\n",
       "      <th>1 ora</th>\n",
       "      <th>3 ore</th>\n",
       "      <th>6 ore</th>\n",
       "      <th>12 ore</th>\n",
       "      <th>24 ore</th>\n",
       "    </tr>\n",
       "  </thead>\n",
       "  <tbody>\n",
       "    <tr>\n",
       "      <th>10.200000</th>\n",
       "      <td>0.036489</td>\n",
       "      <td>0.000333</td>\n",
       "      <td>1.409154e-09</td>\n",
       "      <td>5.049707e-09</td>\n",
       "      <td>0.000007</td>\n",
       "    </tr>\n",
       "    <tr>\n",
       "      <th>11.276768</th>\n",
       "      <td>0.064070</td>\n",
       "      <td>0.001099</td>\n",
       "      <td>2.728163e-08</td>\n",
       "      <td>3.533632e-08</td>\n",
       "      <td>0.000015</td>\n",
       "    </tr>\n",
       "    <tr>\n",
       "      <th>12.353535</th>\n",
       "      <td>0.102228</td>\n",
       "      <td>0.003035</td>\n",
       "      <td>3.432965e-07</td>\n",
       "      <td>2.028265e-07</td>\n",
       "      <td>0.000031</td>\n",
       "    </tr>\n",
       "    <tr>\n",
       "      <th>13.430303</th>\n",
       "      <td>0.150655</td>\n",
       "      <td>0.007202</td>\n",
       "      <td>2.989245e-06</td>\n",
       "      <td>9.744057e-07</td>\n",
       "      <td>0.000059</td>\n",
       "    </tr>\n",
       "    <tr>\n",
       "      <th>14.507071</th>\n",
       "      <td>0.207854</td>\n",
       "      <td>0.015025</td>\n",
       "      <td>1.900187e-05</td>\n",
       "      <td>3.989679e-06</td>\n",
       "      <td>0.000110</td>\n",
       "    </tr>\n",
       "  </tbody>\n",
       "</table>\n",
       "</div>"
      ],
      "text/plain": [
       "              1 ora     3 ore         6 ore        12 ore    24 ore\n",
       "10.200000  0.036489  0.000333  1.409154e-09  5.049707e-09  0.000007\n",
       "11.276768  0.064070  0.001099  2.728163e-08  3.533632e-08  0.000015\n",
       "12.353535  0.102228  0.003035  3.432965e-07  2.028265e-07  0.000031\n",
       "13.430303  0.150655  0.007202  2.989245e-06  9.744057e-07  0.000059\n",
       "14.507071  0.207854  0.015025  1.900187e-05  3.989679e-06  0.000110"
      ]
     },
     "execution_count": 13,
     "metadata": {},
     "output_type": "execute_result"
    }
   ],
   "source": [
    "df_gb_m = pd.DataFrame([gumbel(x_gumbel, df_aEb_m, \"1 ora\"),\n",
    "                 gumbel(x_gumbel, df_aEb_m, \"3 ore\"),\n",
    "                 gumbel(x_gumbel, df_aEb_m, \"6 ore\"),\n",
    "                 gumbel(x_gumbel, df_aEb_m, \"12 ore\"),\n",
    "                 gumbel(x_gumbel, df_aEb_m, \"24 ore\")]).T\n",
    "df_gb_m.index = x_gumbel\n",
    "df_gb_m.columns = [\"1 ora\",\"3 ore\",\"6 ore\",\"12 ore\",\"24 ore\"]\n",
    "df_gb_m.head()"
   ]
  },
  {
   "cell_type": "markdown",
   "id": "0f6751c2-656d-4791-862d-27ff34c7dbf5",
   "metadata": {},
   "source": [
    "Costruire un grafico in cui si sovrappongono dati e curve interpolate. Nella costruzione del grafico è importante rimuovere i termini in cui vi è l'assenza dei dati di misura (NaN), tramite il comando .dropna()."
   ]
  },
  {
   "cell_type": "code",
   "execution_count": 14,
   "id": "d0661e38-a963-468a-ac2b-67add3dfbb13",
   "metadata": {},
   "outputs": [
    {
     "data": {
      "image/png": "[encoded data removed]",
      "text/plain": [
       "<Figure size 864x504 with 1 Axes>"
      ]
     },
     "metadata": {
      "needs_background": "light"
     },
     "output_type": "display_data"
    }
   ],
   "source": [
    "# Curve di Gumbel relative alle varie fasce orarie\n",
    "plt.rc('xtick', labelsize = 20) \n",
    "plt.rc('ytick', labelsize = 20) \n",
    "ax_m = df_gb_m.plot(color=[\"red\", \"blue\", \"cyan\", \"green\", \"black\"], figsize = (12,7))\n",
    "ax_m.set_title('Curve di Gumbel con metodo dei momenti', fontsize = 27)\n",
    "ax_m.set_xlabel('Precipitazione [mm]', fontsize = 18)\n",
    "ax_m.set_ylabel('P [H<h]', fontsize = 18)\n",
    "plt.legend(prop = {\"size\":16}, loc = 4)\n",
    "ax_m.grid()\n",
    "# Rimozione dei NaN\n",
    "df_1h = df[\"1 ora\"].dropna()\n",
    "df_3h = df[\"3 ore\"].dropna()\n",
    "df_6h = df[\"6 ore\"].dropna()\n",
    "df_12h = df[\"12 ore\"].dropna()\n",
    "df_24h = df[\"24 ore\"].dropna()\n",
    "# ECDF relative alle varie fasce orarie\n",
    "ecdf_1h = ECDF(df_1h)\n",
    "ecdf_3h = ECDF(df_3h)\n",
    "ecdf_6h = ECDF(df_6h)\n",
    "ecdf_12h = ECDF(df_12h)\n",
    "ecdf_24h = ECDF(df_24h)\n",
    "# Rappresentazione dell'andamento effettivo dei dati determinati sperimentalmente\n",
    "ax_m.plot(df_1h, ecdf_1h(df_1h), \"o\", c = \"red\", label = \"1 ora\")\n",
    "ax_m.plot(df_3h, ecdf_3h(df_3h), \"o\", c = \"blue\", label = \"3 ore\")\n",
    "ax_m.plot(df_6h, ecdf_6h(df_6h), \"o\", c = \"cyan\", label = \"6 ore\")\n",
    "ax_m.plot(df_12h, ecdf_12h(df_12h), \"o\", c = \"green\", label = \"12 ore\")\n",
    "ax_m.plot(df_24h, ecdf_24h(df_24h), \"o\", c = \"black\", label = \"24 ore\")\n",
    "ax_m.set_ybound(lower = 0, upper = 1.1)\n",
    "plt.savefig(\"Gumbel_momenti.png\", dpi = 600)"
   ]
  },
  {
   "cell_type": "markdown",
   "id": "4384f8b7-4383-485d-8cbf-5f197aa7d99d",
   "metadata": {},
   "source": [
    "### Valutazione dei risultati"
   ]
  },
  {
   "cell_type": "markdown",
   "id": "104a7b54-dce2-43cf-801b-15e046eb42c8",
   "metadata": {},
   "source": [
    "Da tale grafico si può evincere che i dati rilevati dalla stazione considerata interpolano con buona approssimazione le curve teoriche di Gumbel relative alle diverse fasce orarie considerate.\n",
    "Si può osservare inoltre che la miglior interpolazione si ha con la curva relativa alla durata di 1 ora, mentre la peggior interpolazione si ha con quella relativa alla durata di 24 ore."
   ]
  },
  {
   "cell_type": "markdown",
   "id": "fc9fd381-c816-4ca4-9c2c-014e34d2fe56",
   "metadata": {},
   "source": [
    "## 2.2) Metodo della massima verosimiglianza"
   ]
  },
  {
   "cell_type": "markdown",
   "id": "0a8226ef-e30f-4fb4-afba-410bdbd8378a",
   "metadata": {},
   "source": [
    "Il metodo della massima verosimiglianza è uno dei metodi utilizzati per la determinazione della coppia dei parametri a e b più probabili della distribuzione di Gumbel.\n",
    "In tale metodo la coppia di parametri a e b è associata al punto di massimo assoluto della funzione di verosimiglianza. Questa funzione permette di calcolare la probabilità di ottenere tutta la serie temporale (composta da n elementi) ed è espressa dalla seguente formula:\n",
    "\\begin{equation}\n",
    "{\\rm argmax}_{a,b} P[\\{h_1, \\cdot \\cdot, h_n \\};a,b] = {\\rm argmax}_{a,b} \\prod_i^n P[h_i;a,b]\n",
    "\\end{equation}"
   ]
  },
  {
   "cell_type": "markdown",
   "id": "c22b4c35-c785-4b6c-a3b1-5c4abbc93be9",
   "metadata": {},
   "source": [
    "### Ricerca dei parametri a e b della curva di Gumbel"
   ]
  },
  {
   "cell_type": "markdown",
   "id": "933431a6-8dd6-4935-9c69-2b8d615e5da4",
   "metadata": {},
   "source": [
    "I parametri vengono stimati sulla base della probabilità che i coefficienti della popolazione siano uguali a quelli del campione.\n",
    "Per semplificare il calcolo viene effettuato un ciclo for sugli intervalli utilizzando la funzione gumbel_r.fit che restituisce i parametri a e b più probabili."
   ]
  },
  {
   "cell_type": "code",
   "execution_count": 15,
   "id": "102da3ff-6412-4fe5-b003-50ec82e8fb55",
   "metadata": {},
   "outputs": [],
   "source": [
    "ore=[\"1 ora\", \"3 ore\", \"6 ore\", \"12 ore\", \"24 ore\"]\n",
    "def samp(data, colData):\n",
    "    \n",
    "    sample = data[colData].dropna()\n",
    "    param = gumbel_r.fit(sample)\n",
    "    return param\n",
    "\n",
    "samplex=[]\n",
    "for i in range(len(ore)):\n",
    "    samplex.append(samp(df, ore[i]))"
   ]
  },
  {
   "cell_type": "markdown",
   "id": "bcb34c71-16f2-4add-843d-6d74bf8a6265",
   "metadata": {},
   "source": [
    "Creare un dataframe contenente i parametri a e b."
   ]
  },
  {
   "cell_type": "code",
   "execution_count": 16,
   "id": "f62f4a3c-a5dc-4542-b141-fa840fdc2886",
   "metadata": {},
   "outputs": [
    {
     "data": {
      "text/html": [
       "<div>\n",
       "<style scoped>\n",
       "    .dataframe tbody tr th:only-of-type {\n",
       "        vertical-align: middle;\n",
       "    }\n",
       "\n",
       "    .dataframe tbody tr th {\n",
       "        vertical-align: top;\n",
       "    }\n",
       "\n",
       "    .dataframe thead th {\n",
       "        text-align: right;\n",
       "    }\n",
       "</style>\n",
       "<table border=\"1\" class=\"dataframe\">\n",
       "  <thead>\n",
       "    <tr style=\"text-align: right;\">\n",
       "      <th></th>\n",
       "      <th>1 ora</th>\n",
       "      <th>3 ore</th>\n",
       "      <th>6 ore</th>\n",
       "      <th>12 ore</th>\n",
       "      <th>24 ore</th>\n",
       "    </tr>\n",
       "  </thead>\n",
       "  <tbody>\n",
       "    <tr>\n",
       "      <th>a</th>\n",
       "      <td>17.096393</td>\n",
       "      <td>24.025645</td>\n",
       "      <td>30.614184</td>\n",
       "      <td>39.748338</td>\n",
       "      <td>51.263666</td>\n",
       "    </tr>\n",
       "    <tr>\n",
       "      <th>b</th>\n",
       "      <td>5.723790</td>\n",
       "      <td>6.911913</td>\n",
       "      <td>7.541314</td>\n",
       "      <td>9.885428</td>\n",
       "      <td>14.547560</td>\n",
       "    </tr>\n",
       "  </tbody>\n",
       "</table>\n",
       "</div>"
      ],
      "text/plain": [
       "       1 ora      3 ore      6 ore     12 ore     24 ore\n",
       "a  17.096393  24.025645  30.614184  39.748338  51.263666\n",
       "b   5.723790   6.911913   7.541314   9.885428  14.547560"
      ]
     },
     "execution_count": 16,
     "metadata": {},
     "output_type": "execute_result"
    }
   ],
   "source": [
    "df_aEb_mv = pd.DataFrame(samplex, columns = [\"a\",\"b\"], index = ore).T \n",
    "df_aEb_mv"
   ]
  },
  {
   "cell_type": "markdown",
   "id": "fee3ad89-27af-465b-bc03-0985aa9e361d",
   "metadata": {},
   "source": [
    "### Costruzione delle curve di Gumbel"
   ]
  },
  {
   "cell_type": "markdown",
   "id": "4a6ffa9b-d661-470c-bb76-8aa7e1bb3a9b",
   "metadata": {},
   "source": [
    "Salvare il dataframe dei parametri a e b in un formato leggibile dal sistema."
   ]
  },
  {
   "cell_type": "code",
   "execution_count": 17,
   "id": "4723c77c-e059-4b50-9c9c-e3810af0be73",
   "metadata": {},
   "outputs": [],
   "source": [
    "df_aEb_mv.to_pickle(\"df_aEb_mv\")"
   ]
  },
  {
   "cell_type": "markdown",
   "id": "c37ef59d-80a1-4e53-83ca-f2cf90222054",
   "metadata": {},
   "source": [
    "Definire una funzione che ritorna l'espressione della curva di Gumbel e successivamente creare un'ascissa che va dal valore minimo al valore massimo di precipitazione indicando il numero d'intervalli in cui la si vuole dividere.\n",
    "Infine definire un dataframe contenente le espressione delle distribuzioni di Gumbel interpolate, nelle diverse fasce orarie (stesso procedimento attuato nel metodo dei momenti)."
   ]
  },
  {
   "cell_type": "code",
   "execution_count": 18,
   "id": "46864679-8520-4f54-afdb-30effccc2b97",
   "metadata": {},
   "outputs": [
    {
     "data": {
      "text/html": [
       "<div>\n",
       "<style scoped>\n",
       "    .dataframe tbody tr th:only-of-type {\n",
       "        vertical-align: middle;\n",
       "    }\n",
       "\n",
       "    .dataframe tbody tr th {\n",
       "        vertical-align: top;\n",
       "    }\n",
       "\n",
       "    .dataframe thead th {\n",
       "        text-align: right;\n",
       "    }\n",
       "</style>\n",
       "<table border=\"1\" class=\"dataframe\">\n",
       "  <thead>\n",
       "    <tr style=\"text-align: right;\">\n",
       "      <th></th>\n",
       "      <th>1 ora</th>\n",
       "      <th>3 ore</th>\n",
       "      <th>6 ore</th>\n",
       "      <th>12 ore</th>\n",
       "      <th>24 ore</th>\n",
       "    </tr>\n",
       "  </thead>\n",
       "  <tbody>\n",
       "    <tr>\n",
       "      <th>10.200000</th>\n",
       "      <td>0.035568</td>\n",
       "      <td>0.000617</td>\n",
       "      <td>3.108518e-07</td>\n",
       "      <td>2.353407e-09</td>\n",
       "      <td>4.943930e-08</td>\n",
       "    </tr>\n",
       "    <tr>\n",
       "      <th>11.276768</th>\n",
       "      <td>0.063028</td>\n",
       "      <td>0.001791</td>\n",
       "      <td>2.282534e-06</td>\n",
       "      <td>1.828757e-08</td>\n",
       "      <td>1.641752e-07</td>\n",
       "    </tr>\n",
       "    <tr>\n",
       "      <th>12.353535</th>\n",
       "      <td>0.101250</td>\n",
       "      <td>0.004461</td>\n",
       "      <td>1.285498e-05</td>\n",
       "      <td>1.150052e-07</td>\n",
       "      <td>5.004442e-07</td>\n",
       "    </tr>\n",
       "    <tr>\n",
       "      <th>13.430303</th>\n",
       "      <td>0.149953</td>\n",
       "      <td>0.009739</td>\n",
       "      <td>5.752355e-05</td>\n",
       "      <td>5.982272e-07</td>\n",
       "      <td>1.408866e-06</td>\n",
       "    </tr>\n",
       "    <tr>\n",
       "      <th>14.507071</th>\n",
       "      <td>0.207620</td>\n",
       "      <td>0.018997</td>\n",
       "      <td>2.108772e-04</td>\n",
       "      <td>2.624863e-06</td>\n",
       "      <td>3.683950e-06</td>\n",
       "    </tr>\n",
       "  </tbody>\n",
       "</table>\n",
       "</div>"
      ],
      "text/plain": [
       "              1 ora     3 ore         6 ore        12 ore        24 ore\n",
       "10.200000  0.035568  0.000617  3.108518e-07  2.353407e-09  4.943930e-08\n",
       "11.276768  0.063028  0.001791  2.282534e-06  1.828757e-08  1.641752e-07\n",
       "12.353535  0.101250  0.004461  1.285498e-05  1.150052e-07  5.004442e-07\n",
       "13.430303  0.149953  0.009739  5.752355e-05  5.982272e-07  1.408866e-06\n",
       "14.507071  0.207620  0.018997  2.108772e-04  2.624863e-06  3.683950e-06"
      ]
     },
     "execution_count": 18,
     "metadata": {},
     "output_type": "execute_result"
    }
   ],
   "source": [
    "def gumbel(x, df_g, time):\n",
    "    return np.exp(- np.exp( - (x - df_g[time][\"a\"]) / df_g[time][\"b\"])) \n",
    "x_gumbel = np.linspace(vMin, vMax, 100)\n",
    "df_gb_mv = pd.DataFrame([gumbel(x_gumbel, df_aEb_mv, ore[0]),\n",
    "                         gumbel(x_gumbel, df_aEb_mv, ore[1]),\n",
    "                         gumbel(x_gumbel, df_aEb_mv, ore[2]),\n",
    "                         gumbel(x_gumbel, df_aEb_mv, ore[3]),\n",
    "                         gumbel(x_gumbel, df_aEb_mv, ore[4])]).T\n",
    "df_gb_mv.index = x_gumbel\n",
    "df_gb_mv.columns = ore\n",
    "df_gb_mv.head()"
   ]
  },
  {
   "cell_type": "code",
   "execution_count": 20,
   "id": "497549d1-1382-48a4-a27e-2dd2f4cf17a1",
   "metadata": {},
   "outputs": [
    {
     "data": {
      "image/png": "[encoded data removed]",
      "text/plain": [
       "<Figure size 864x504 with 1 Axes>"
      ]
     },
     "metadata": {
      "needs_background": "light"
     },
     "output_type": "display_data"
    }
   ],
   "source": [
    "#Curve di Gumbel relative alle varie fasce orarie\n",
    "plt.rc('xtick', labelsize = 20)\n",
    "plt.rc('ytick', labelsize = 20)\n",
    "colori = [\"red\", \"blue\", \"cyan\", \"green\", \"black\"]\n",
    "ax_mv = df_gb_mv.plot(color = colori, figsize = (12, 7))\n",
    "ax_mv.set_title('Curve di Gumbel con metodo della massima verosimiglianza', fontsize = 23)\n",
    "ax_mv.set_xlabel('Precipitazione [mm]', fontsize = 18)\n",
    "ax_mv.set_ylabel('P [H<h]', fontsize = 18)\n",
    "plt.legend(prop = {\"size\":16}, loc = 4)\n",
    "ax_mv.grid()\n",
    "# Rappresentazione dell'andamento effettivo dei dati determinati sperimentalmente\n",
    "def componenti(data, colore, ora):  \n",
    "    data = data[ora].dropna()\n",
    "    ecdf = ECDF(data)\n",
    "    dot = ax_mv.plot(data, ecdf(data), 'o', c = colore)\n",
    "    return dot\n",
    "\n",
    "for i in range(len(colori)):\n",
    "    comp = componenti(df, colori[i], ore[i]) \n",
    "ax_mv.set_ybound(lower = 0, upper = 1.1)\n",
    "plt.savefig(\"Gumbel_massima_verosimiglianza.png\", dpi = 600)"
   ]
  },
  {
   "cell_type": "markdown",
   "id": "a6223af9-4d0e-4566-9fca-b701e9c28b2a",
   "metadata": {},
   "source": [
    "### Valutazione dei risultati"
   ]
  },
  {
   "cell_type": "markdown",
   "id": "598bbc4c-3182-4975-9a84-c61724a8f45c",
   "metadata": {},
   "source": [
    "Valgono le osservazioni fatte per il metodo dei momenti"
   ]
  },
  {
   "cell_type": "markdown",
   "id": "8f458daf-095b-4a45-a8d2-8d7c7c857734",
   "metadata": {},
   "source": [
    "## 2.3) Metodo dei minimi quadrati"
   ]
  },
  {
   "cell_type": "markdown",
   "id": "3e4fc252-9154-4bac-9bba-0c5d66fefeba",
   "metadata": {},
   "source": [
    "Tale metodo iterativo consiste nel definire lo scarto quadratico tra le misure dell'ECDF (Empirycal Cumulative Distribution Function) e la probabilità di non superamento del singolo candidato h(i).\n",
    "In tale metodo si prendono i valori di a e b che rendono lo scarto quadratico minimo.\n",
    "\\begin{equation} \n",
    "\\delta^2(a,b) = \\sum_i^N (ECDF_i-P[h_i;a,b])^2 \\to \\rm min \n",
    "\\end{equation}"
   ]
  },
  {
   "cell_type": "markdown",
   "id": "e5360abc-b9f4-4d70-bb78-2d9720664c68",
   "metadata": {},
   "source": [
    "### Ricerca dei parametri a e b della curva di Gumbel"
   ]
  },
  {
   "cell_type": "markdown",
   "id": "aac4056c-0722-4475-b3a7-720dfb169628",
   "metadata": {},
   "source": [
    "Essendo il metodo dei minimi quadrati un processo iterativo è necessario fornire una condzione iniziale (x0 [a,b]) dal quale partire con l'iterazione. In questo caso si prende come condizione iniziale i valori di a e b ottenuti con il metodo dei momenti."
   ]
  },
  {
   "cell_type": "code",
   "execution_count": 21,
   "id": "4af7571f-8822-4816-b080-ee1ed6f4f685",
   "metadata": {},
   "outputs": [
    {
     "data": {
      "text/plain": [
       "[(17.096392527995473, 5.723789778640177),\n",
       " (24.025644909402875, 6.911913480364508),\n",
       " (30.614183888167258, 7.541314270491289),\n",
       " (39.74833754029827, 9.885427853843334),\n",
       " (51.26366584502196, 14.547559817520744)]"
      ]
     },
     "execution_count": 21,
     "metadata": {},
     "output_type": "execute_result"
    }
   ],
   "source": [
    "x0 = samplex\n",
    "x0"
   ]
  },
  {
   "cell_type": "markdown",
   "id": "0d596059-5715-47ed-bafe-52ad7d9b6402",
   "metadata": {},
   "source": [
    "Si definiscono delle funzioni necessarie per la stima ai minimi quadrati"
   ]
  },
  {
   "cell_type": "code",
   "execution_count": 23,
   "id": "9efbd139-b133-4bd3-a63f-c76b7dd2fb86",
   "metadata": {},
   "outputs": [],
   "source": [
    "# Valori dei dati ordinati in ordine crescente (ascissa)\n",
    "def t_rain(data, h):  \n",
    "    return sorted(data[h].dropna())\n",
    "\n",
    "# Valori della funzione empirica cumulata ordinati (ordinata)\n",
    "def y_t_rain(data, h):  \n",
    "    ecdf = ECDF(data[h])\n",
    "    t_rain = sorted(data[h].dropna())\n",
    "    return ecdf(t_rain)\n",
    "\n",
    "# Distribuzione di Gumbel \n",
    "def fun(x, t, y): \n",
    "    return np.exp( - np.exp( - (t - x[0]) / x[1])) - y"
   ]
  },
  {
   "cell_type": "markdown",
   "id": "09cdfc00-e622-4f23-9d0f-7bb2bc516c9c",
   "metadata": {},
   "source": [
    "Si applica il metodo dei minimi quadrati tramite la funzione least_squares (metodo iterativo per risolvere il sistema non lineare ottenuto tramite il metodo dei minimi quadrati)."
   ]
  },
  {
   "cell_type": "code",
   "execution_count": 24,
   "id": "53bb4eeb-ff2c-4ff3-9b5a-c03b5e68c1d1",
   "metadata": {},
   "outputs": [],
   "source": [
    "from scipy.optimize import least_squares\n",
    "aEb_mq = []\n",
    "for i in range(len(ore)):\n",
    "    ris_mq = least_squares(fun, x0[i], args=(t_rain(df, ore[i]), y_t_rain(df, ore[i]))) \n",
    "    aEb_mq.append(ris_mq.x)\n",
    "    #le x della funzione contengono i valore di a e di b"
   ]
  },
  {
   "cell_type": "markdown",
   "id": "f3a7aa40-16bc-40cb-892b-bfd2dd13b4f2",
   "metadata": {},
   "source": [
    "Si crea il dataframe relativo ai parametri a e b determinati tramite il metodo dei minimi quadrati"
   ]
  },
  {
   "cell_type": "code",
   "execution_count": 25,
   "id": "9d4262c3-75df-46b4-9986-119de656b3a1",
   "metadata": {},
   "outputs": [
    {
     "data": {
      "text/html": [
       "<div>\n",
       "<style scoped>\n",
       "    .dataframe tbody tr th:only-of-type {\n",
       "        vertical-align: middle;\n",
       "    }\n",
       "\n",
       "    .dataframe tbody tr th {\n",
       "        vertical-align: top;\n",
       "    }\n",
       "\n",
       "    .dataframe thead th {\n",
       "        text-align: right;\n",
       "    }\n",
       "</style>\n",
       "<table border=\"1\" class=\"dataframe\">\n",
       "  <thead>\n",
       "    <tr style=\"text-align: right;\">\n",
       "      <th></th>\n",
       "      <th>1 ora</th>\n",
       "      <th>3 ore</th>\n",
       "      <th>6 ore</th>\n",
       "      <th>12 ore</th>\n",
       "      <th>24 ore</th>\n",
       "    </tr>\n",
       "  </thead>\n",
       "  <tbody>\n",
       "    <tr>\n",
       "      <th>a</th>\n",
       "      <td>17.071434</td>\n",
       "      <td>23.964007</td>\n",
       "      <td>30.801410</td>\n",
       "      <td>39.728183</td>\n",
       "      <td>50.640086</td>\n",
       "    </tr>\n",
       "    <tr>\n",
       "      <th>b</th>\n",
       "      <td>6.763814</td>\n",
       "      <td>6.604094</td>\n",
       "      <td>8.995085</td>\n",
       "      <td>11.323566</td>\n",
       "      <td>14.421141</td>\n",
       "    </tr>\n",
       "  </tbody>\n",
       "</table>\n",
       "</div>"
      ],
      "text/plain": [
       "       1 ora      3 ore      6 ore     12 ore     24 ore\n",
       "a  17.071434  23.964007  30.801410  39.728183  50.640086\n",
       "b   6.763814   6.604094   8.995085  11.323566  14.421141"
      ]
     },
     "execution_count": 25,
     "metadata": {},
     "output_type": "execute_result"
    }
   ],
   "source": [
    "df_aEb_mq = pd.DataFrame(aEb_mq, columns = [\"a\", \"b\"], index = ore).T \n",
    "df_aEb_mq"
   ]
  },
  {
   "cell_type": "markdown",
   "id": "fed0462a-fc04-4635-a328-6206d3f04f1c",
   "metadata": {},
   "source": [
    "### Costruzione delle curve di Gumbel"
   ]
  },
  {
   "cell_type": "code",
   "execution_count": 26,
   "id": "62deecf9-bf43-44a0-a9dd-df05d2387ce0",
   "metadata": {},
   "outputs": [],
   "source": [
    "df_aEb_mq.to_pickle(\"df_aEb_mq\")"
   ]
  },
  {
   "cell_type": "markdown",
   "id": "09143f45-b1a2-4ff3-91bf-7491a4e3104b",
   "metadata": {},
   "source": [
    "Definire una funzione che ritorna l'espressione della curva di Gumbel e successivamente creare un'ascissa che va dal valore minimo al valore massimo di precipitazione indicando il numero d'intervalli in cui la si vuole dividere.\n",
    "Infine definire un dataframe contenente le espressione delle distribuzioni di Gumbel interpolate, nelle diverse fasce orarie (stesso procedimento attuato negli altri 2 metodi)."
   ]
  },
  {
   "cell_type": "code",
   "execution_count": 27,
   "id": "e94a6b79-706a-4012-b249-61a7b19497d1",
   "metadata": {},
   "outputs": [
    {
     "data": {
      "text/html": [
       "<div>\n",
       "<style scoped>\n",
       "    .dataframe tbody tr th:only-of-type {\n",
       "        vertical-align: middle;\n",
       "    }\n",
       "\n",
       "    .dataframe tbody tr th {\n",
       "        vertical-align: top;\n",
       "    }\n",
       "\n",
       "    .dataframe thead th {\n",
       "        text-align: right;\n",
       "    }\n",
       "</style>\n",
       "<table border=\"1\" class=\"dataframe\">\n",
       "  <thead>\n",
       "    <tr style=\"text-align: right;\">\n",
       "      <th></th>\n",
       "      <th>1 ora</th>\n",
       "      <th>3 ore</th>\n",
       "      <th>6 ore</th>\n",
       "      <th>12 ore</th>\n",
       "      <th>24 ore</th>\n",
       "    </tr>\n",
       "  </thead>\n",
       "  <tbody>\n",
       "    <tr>\n",
       "      <th>10.200000</th>\n",
       "      <td>0.063173</td>\n",
       "      <td>0.000323</td>\n",
       "      <td>0.000051</td>\n",
       "      <td>0.000001</td>\n",
       "      <td>6.729166e-08</td>\n",
       "    </tr>\n",
       "    <tr>\n",
       "      <th>11.276768</th>\n",
       "      <td>0.094854</td>\n",
       "      <td>0.001082</td>\n",
       "      <td>0.000156</td>\n",
       "      <td>0.000004</td>\n",
       "      <td>2.207824e-07</td>\n",
       "    </tr>\n",
       "    <tr>\n",
       "      <th>12.353535</th>\n",
       "      <td>0.134154</td>\n",
       "      <td>0.003024</td>\n",
       "      <td>0.000420</td>\n",
       "      <td>0.000013</td>\n",
       "      <td>6.650327e-07</td>\n",
       "    </tr>\n",
       "    <tr>\n",
       "      <th>13.430303</th>\n",
       "      <td>0.180300</td>\n",
       "      <td>0.007238</td>\n",
       "      <td>0.001010</td>\n",
       "      <td>0.000037</td>\n",
       "      <td>1.850410e-06</td>\n",
       "    </tr>\n",
       "    <tr>\n",
       "      <th>14.507071</th>\n",
       "      <td>0.232001</td>\n",
       "      <td>0.015192</td>\n",
       "      <td>0.002200</td>\n",
       "      <td>0.000094</td>\n",
       "      <td>4.783195e-06</td>\n",
       "    </tr>\n",
       "  </tbody>\n",
       "</table>\n",
       "</div>"
      ],
      "text/plain": [
       "              1 ora     3 ore     6 ore    12 ore        24 ore\n",
       "10.200000  0.063173  0.000323  0.000051  0.000001  6.729166e-08\n",
       "11.276768  0.094854  0.001082  0.000156  0.000004  2.207824e-07\n",
       "12.353535  0.134154  0.003024  0.000420  0.000013  6.650327e-07\n",
       "13.430303  0.180300  0.007238  0.001010  0.000037  1.850410e-06\n",
       "14.507071  0.232001  0.015192  0.002200  0.000094  4.783195e-06"
      ]
     },
     "execution_count": 27,
     "metadata": {},
     "output_type": "execute_result"
    }
   ],
   "source": [
    "def gumbel(x, df_g, time):\n",
    "    return np.exp(- np.exp( - (x - df_g[time][\"a\"]) / df_g[time][\"b\"])) \n",
    "x_gumbel = np.linspace(vMin, vMax, 100)\n",
    "df_gb_mq = pd.DataFrame([gumbel(x_gumbel, df_aEb_mq, ore[0]),\n",
    "                         gumbel(x_gumbel, df_aEb_mq, ore[1]),\n",
    "                         gumbel(x_gumbel, df_aEb_mq, ore[2]),\n",
    "                         gumbel(x_gumbel, df_aEb_mq, ore[3]),\n",
    "                         gumbel(x_gumbel, df_aEb_mq, ore[4])]).T\n",
    "df_gb_mq.index = x_gumbel\n",
    "df_gb_mq.columns = ore\n",
    "df_gb_mq.head()"
   ]
  },
  {
   "cell_type": "code",
   "execution_count": 28,
   "id": "9493deb6-6c4e-484a-b2bf-ded23a0ab8da",
   "metadata": {},
   "outputs": [
    {
     "data": {
      "image/png": "[encoded data removed]",
      "text/plain": [
       "<Figure size 864x504 with 1 Axes>"
      ]
     },
     "metadata": {
      "needs_background": "light"
     },
     "output_type": "display_data"
    }
   ],
   "source": [
    "#Curve di Gumbel relative alle varie fasce orarie\n",
    "plt.rc('xtick', labelsize = 20)\n",
    "plt.rc('ytick', labelsize = 20)\n",
    "colori = [\"red\", \"blue\", \"cyan\", \"green\", \"black\"]\n",
    "ax_mq = df_gb_mq.plot(color=colori, figsize = (12, 7))\n",
    "ax_mq.set_title('Curve di Gumbel con metodo dei minimi quadrati', fontsize = 25)\n",
    "ax_mq.set_xlabel('Precipitazione [mm]', fontsize = 18)\n",
    "ax_mq.set_ylabel('P [H<h]', fontsize = 18)\n",
    "plt.legend(prop = {\"size\":16}, loc = 4)\n",
    "ax_mq.grid()\n",
    "# Rappresentazione dell'andamento effettivo dei dati determinati sperimentalmente\n",
    "def componenti(data, colore, ora):  \n",
    "    data = data[ora].dropna()\n",
    "    ecdf = ECDF(data)\n",
    "    dot = ax_mq.plot(data, ecdf(data), 'o', c = colore)\n",
    "    return dot\n",
    "\n",
    "for i in range(len(colori)):\n",
    "    comp = componenti(df, colori[i], ore[i]) \n",
    "ax_mq.set_ybound(lower = 0, upper = 1.1)\n",
    "plt.savefig(\"Gumbel_minimi_quadrati.png\", dpi = 600)"
   ]
  },
  {
   "cell_type": "markdown",
   "id": "f750f90d-eb86-4fcd-b5ad-4cb78c925c7a",
   "metadata": {},
   "source": [
    "### Valutazione dei risultati"
   ]
  },
  {
   "cell_type": "markdown",
   "id": "050a4c43-b714-404c-b494-46b39527eef3",
   "metadata": {},
   "source": [
    "Valgono le osservazioni fatte per gli altri 2 metodi. L'unica differenza che si nota è una maggiore divergenza dei dati sperimentali rispetto alle curve di Gumbel per la durata di 6 ore."
   ]
  }
 ],
 "metadata": {
  "kernelspec": {
   "display_name": "Python 3 (ipykernel)",
   "language": "python",
   "name": "python3"
  },
  "language_info": {
   "codemirror_mode": {
    "name": "ipython",
    "version": 3
   },
   "file_extension": ".py",
   "mimetype": "text/x-python",
   "name": "python",
   "nbconvert_exporter": "python",
   "pygments_lexer": "ipython3",
   "version": "3.7.12"
  }
 },
 "nbformat": 4,
 "nbformat_minor": 5
}
